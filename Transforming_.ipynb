{
 "cells": [
  {
   "cell_type": "code",
   "execution_count": 2,
   "metadata": {},
   "outputs": [],
   "source": [
    "import pandas as pd\n",
    "import csv \n",
    "import os\n",
    "import json\n",
    "from pandas.io.json import json_normalize"
   ]
  },
  {
   "cell_type": "markdown",
   "metadata": {},
   "source": [
    "## Read csv"
   ]
  },
  {
   "cell_type": "code",
   "execution_count": null,
   "metadata": {},
   "outputs": [],
   "source": [
    "\n",
    " \n",
    "with open('/Users/jthompson/dev/airflow_home/temp/temp_data/stmt.csv','r') as csv_file: #Opens the file in read mode\n",
    "    csv_reader = csv.reader(csv_file) # Making use of reader method for reading the file\n",
    " \n",
    " \n",
    "    for line in csv_reader: #Iterate through the loop to read line by line\n",
    "        print(line)"
   ]
  },
  {
   "cell_type": "code",
   "execution_count": 3,
   "metadata": {},
   "outputs": [],
   "source": [
    "#Standard Data that you see on Oura Home screen from the data show in data2\n",
    "\n",
    "data = pd.read_csv('/Users/jthompson/dev/airflow_home/data/oura_2019_trends.csv')"
   ]
  },
  {
   "cell_type": "code",
   "execution_count": 5,
   "metadata": {},
   "outputs": [],
   "source": [
    "data2 = pd.read_csv('/Users/jthompson/dev/airflow_home/data/oura_2019-09-17_2020-04-01_trends.csv')"
   ]
  },
  {
   "cell_type": "code",
   "execution_count": null,
   "metadata": {},
   "outputs": [],
   "source": [
    "data3 = pd.read_csv('/Users/jthompson/dev/airflow_home/temp/temp_data/debits.csv')"
   ]
  },
  {
   "cell_type": "code",
   "execution_count": null,
   "metadata": {},
   "outputs": [],
   "source": [
    "## For previous csv data above, reading csv and then setting data to dataframe simple"
   ]
  },
  {
   "cell_type": "code",
   "execution_count": null,
   "metadata": {},
   "outputs": [],
   "source": [
    "## For serialized json data, must json.load file and then normalize by index,(ie: Sleep, Activity, Readiness)"
   ]
  },
  {
   "cell_type": "code",
   "execution_count": null,
   "metadata": {},
   "outputs": [],
   "source": [
    "data4 = pd.read_json('/Users/jthompson/dev/airflow_home/data/sleep_data_response.json')"
   ]
  },
  {
   "cell_type": "code",
   "execution_count": null,
   "metadata": {},
   "outputs": [],
   "source": [
    "data6 = pd.read_json('/Users/jthompson/dev/airflow_home/data/activity_data.json')"
   ]
  },
  {
   "cell_type": "code",
   "execution_count": null,
   "metadata": {},
   "outputs": [],
   "source": [
    "data6_1 = pd.read_json('/Users/jthompson/dev/airflow_home/data/activity_data.json')"
   ]
  },
  {
   "cell_type": "code",
   "execution_count": null,
   "metadata": {},
   "outputs": [],
   "source": [
    "data6_1 = json_normalize(data6_1['activity'])"
   ]
  },
  {
   "cell_type": "code",
   "execution_count": null,
   "metadata": {},
   "outputs": [],
   "source": [
    "data6_1['day_start'] = pd.to_datetime(data6_1['day_start'])"
   ]
  },
  {
   "cell_type": "code",
   "execution_count": null,
   "metadata": {},
   "outputs": [],
   "source": [
    "data6_1['day_start']"
   ]
  },
  {
   "cell_type": "code",
   "execution_count": null,
   "metadata": {},
   "outputs": [],
   "source": [
    "data6_1['summary_date']"
   ]
  },
  {
   "cell_type": "code",
   "execution_count": 7,
   "metadata": {},
   "outputs": [
    {
     "data": {
      "text/plain": [
       "date                            object\n",
       "Sleep Score                    float64\n",
       "Total Sleep Score              float64\n",
       "REM Sleep Score                float64\n",
       "Deep Sleep Score               float64\n",
       "Sleep Efficiency Score         float64\n",
       "Sleep Tranquility Score        float64\n",
       "Sleep Latency Score            float64\n",
       "Sleep Timing Score             float64\n",
       "Total Bedtime                  float64\n",
       "Total Sleep Time               float64\n",
       "Awake Time                     float64\n",
       "REM Sleep Time                 float64\n",
       "Light Sleep Time               float64\n",
       "Deep Sleep Time                float64\n",
       "Restless Sleep                 float64\n",
       "Sleep Efficiency               float64\n",
       "Sleep Latency                  float64\n",
       "Sleep Timing                   float64\n",
       "Sleep Timing.1                 float64\n",
       "Bedtime Start                   object\n",
       "Bedtime End                     object\n",
       "Average Resting Heart Rate     float64\n",
       "Lowest Resting Heart Rate      float64\n",
       "Average HRV                    float64\n",
       "Temperature Deviation          float64\n",
       "Respiratory Rate               float64\n",
       "Activity Score                 float64\n",
       "Stay Active Score              float64\n",
       "Move Every Hour Score          float64\n",
       "Meet Daily Targets Score       float64\n",
       "Training Frequency Score       float64\n",
       "Training Volume Score          float64\n",
       "Recovery Time Score            float64\n",
       "Activity Burn                  float64\n",
       "Total Burn                     float64\n",
       "Target Calories                float64\n",
       "Steps                          float64\n",
       "Daily Movement                 float64\n",
       "Inactive Time                  float64\n",
       "Rest Time                      float64\n",
       "Low Activity Time              float64\n",
       "Medium Activity Time           float64\n",
       "High Activity Time             float64\n",
       "Non-wear Time                  float64\n",
       "Average MET                    float64\n",
       "Long Periods of Inactivity     float64\n",
       "Readiness Score                float64\n",
       "Previous Night Score           float64\n",
       "Sleep Balance Score            float64\n",
       "Previous Day Activity Score    float64\n",
       "Activity Balance Score         float64\n",
       "Temperature Score              float64\n",
       "Resting Heart Rate Score       float64\n",
       "HRV Balance Score              float64\n",
       "Recovery Index Score           float64\n",
       "dtype: object"
      ]
     },
     "execution_count": 7,
     "metadata": {},
     "output_type": "execute_result"
    }
   ],
   "source": [
    "data2.dtypes"
   ]
  },
  {
   "cell_type": "code",
   "execution_count": 14,
   "metadata": {},
   "outputs": [
    {
     "data": {
      "text/plain": [
       "0      2019-09-16 23:57:12-04:00\n",
       "1      2019-09-17 23:17:35-04:00\n",
       "2      2019-09-18 23:29:00-04:00\n",
       "3      2019-09-20 07:26:58-04:00\n",
       "4      2019-09-21 10:11:57-04:00\n",
       "                 ...            \n",
       "189    2020-03-27 00:35:31-04:00\n",
       "190    2020-03-28 01:27:09-04:00\n",
       "191    2020-03-29 01:42:29-04:00\n",
       "192    2020-03-30 04:22:53-04:00\n",
       "193    2020-03-31 02:14:44-04:00\n",
       "Name: Bedtime Start, Length: 194, dtype: object"
      ]
     },
     "execution_count": 14,
     "metadata": {},
     "output_type": "execute_result"
    }
   ],
   "source": [
    "data2['Bedtime Start']"
   ]
  },
  {
   "cell_type": "code",
   "execution_count": 17,
   "metadata": {},
   "outputs": [],
   "source": [
    "#data2['Bedtime Start'] = pd.to_datetime(data2['Bedtime Start'])\n",
    "data2['Bedtime Start'] = pd.to_datetime(data2['Bedtime Start'], utc=True)\n",
    "#pd.to_datetime(data2['Bedtime Start'], utc=True, format=timestamp_format)"
   ]
  },
  {
   "cell_type": "code",
   "execution_count": 18,
   "metadata": {},
   "outputs": [
    {
     "data": {
      "text/plain": [
       "date                                        object\n",
       "Sleep Score                                float64\n",
       "Total Sleep Score                          float64\n",
       "REM Sleep Score                            float64\n",
       "Deep Sleep Score                           float64\n",
       "Sleep Efficiency Score                     float64\n",
       "Sleep Tranquility Score                    float64\n",
       "Sleep Latency Score                        float64\n",
       "Sleep Timing Score                         float64\n",
       "Total Bedtime                              float64\n",
       "Total Sleep Time                           float64\n",
       "Awake Time                                 float64\n",
       "REM Sleep Time                             float64\n",
       "Light Sleep Time                           float64\n",
       "Deep Sleep Time                            float64\n",
       "Restless Sleep                             float64\n",
       "Sleep Efficiency                           float64\n",
       "Sleep Latency                              float64\n",
       "Sleep Timing                               float64\n",
       "Sleep Timing.1                             float64\n",
       "Bedtime Start                  datetime64[ns, UTC]\n",
       "Bedtime End                                 object\n",
       "Average Resting Heart Rate                 float64\n",
       "Lowest Resting Heart Rate                  float64\n",
       "Average HRV                                float64\n",
       "Temperature Deviation                      float64\n",
       "Respiratory Rate                           float64\n",
       "Activity Score                             float64\n",
       "Stay Active Score                          float64\n",
       "Move Every Hour Score                      float64\n",
       "Meet Daily Targets Score                   float64\n",
       "Training Frequency Score                   float64\n",
       "Training Volume Score                      float64\n",
       "Recovery Time Score                        float64\n",
       "Activity Burn                              float64\n",
       "Total Burn                                 float64\n",
       "Target Calories                            float64\n",
       "Steps                                      float64\n",
       "Daily Movement                             float64\n",
       "Inactive Time                              float64\n",
       "Rest Time                                  float64\n",
       "Low Activity Time                          float64\n",
       "Medium Activity Time                       float64\n",
       "High Activity Time                         float64\n",
       "Non-wear Time                              float64\n",
       "Average MET                                float64\n",
       "Long Periods of Inactivity                 float64\n",
       "Readiness Score                            float64\n",
       "Previous Night Score                       float64\n",
       "Sleep Balance Score                        float64\n",
       "Previous Day Activity Score                float64\n",
       "Activity Balance Score                     float64\n",
       "Temperature Score                          float64\n",
       "Resting Heart Rate Score                   float64\n",
       "HRV Balance Score                          float64\n",
       "Recovery Index Score                       float64\n",
       "dtype: object"
      ]
     },
     "execution_count": 18,
     "metadata": {},
     "output_type": "execute_result"
    }
   ],
   "source": [
    "data2.dtypes"
   ]
  },
  {
   "cell_type": "code",
   "execution_count": null,
   "metadata": {},
   "outputs": [],
   "source": [
    "data6_1['class_5min']"
   ]
  },
  {
   "cell_type": "code",
   "execution_count": 20,
   "metadata": {},
   "outputs": [
    {
     "data": {
      "text/html": [
       "<div>\n",
       "<style scoped>\n",
       "    .dataframe tbody tr th:only-of-type {\n",
       "        vertical-align: middle;\n",
       "    }\n",
       "\n",
       "    .dataframe tbody tr th {\n",
       "        vertical-align: top;\n",
       "    }\n",
       "\n",
       "    .dataframe thead th {\n",
       "        text-align: right;\n",
       "    }\n",
       "</style>\n",
       "<table border=\"1\" class=\"dataframe\">\n",
       "  <thead>\n",
       "    <tr style=\"text-align: right;\">\n",
       "      <th></th>\n",
       "      <th>date</th>\n",
       "      <th>Sleep Score</th>\n",
       "      <th>Total Sleep Score</th>\n",
       "      <th>REM Sleep Score</th>\n",
       "      <th>Deep Sleep Score</th>\n",
       "      <th>Sleep Efficiency Score</th>\n",
       "      <th>Sleep Tranquility Score</th>\n",
       "      <th>Sleep Latency Score</th>\n",
       "      <th>Sleep Timing Score</th>\n",
       "      <th>Total Bedtime</th>\n",
       "      <th>...</th>\n",
       "      <th>Long Periods of Inactivity</th>\n",
       "      <th>Readiness Score</th>\n",
       "      <th>Previous Night Score</th>\n",
       "      <th>Sleep Balance Score</th>\n",
       "      <th>Previous Day Activity Score</th>\n",
       "      <th>Activity Balance Score</th>\n",
       "      <th>Temperature Score</th>\n",
       "      <th>Resting Heart Rate Score</th>\n",
       "      <th>HRV Balance Score</th>\n",
       "      <th>Recovery Index Score</th>\n",
       "    </tr>\n",
       "  </thead>\n",
       "  <tbody>\n",
       "    <tr>\n",
       "      <td>0</td>\n",
       "      <td>2019-09-17</td>\n",
       "      <td>67.0</td>\n",
       "      <td>76.0</td>\n",
       "      <td>25.0</td>\n",
       "      <td>23.0</td>\n",
       "      <td>95.0</td>\n",
       "      <td>61.0</td>\n",
       "      <td>86.0</td>\n",
       "      <td>86.0</td>\n",
       "      <td>28740.0</td>\n",
       "      <td>...</td>\n",
       "      <td>1.0</td>\n",
       "      <td>83.0</td>\n",
       "      <td>61.0</td>\n",
       "      <td>83.0</td>\n",
       "      <td>84.0</td>\n",
       "      <td>79.0</td>\n",
       "      <td>96.0</td>\n",
       "      <td>97.0</td>\n",
       "      <td>NaN</td>\n",
       "      <td>100.0</td>\n",
       "    </tr>\n",
       "    <tr>\n",
       "      <td>1</td>\n",
       "      <td>2019-09-18</td>\n",
       "      <td>78.0</td>\n",
       "      <td>87.0</td>\n",
       "      <td>56.0</td>\n",
       "      <td>65.0</td>\n",
       "      <td>98.0</td>\n",
       "      <td>56.0</td>\n",
       "      <td>86.0</td>\n",
       "      <td>90.0</td>\n",
       "      <td>31020.0</td>\n",
       "      <td>...</td>\n",
       "      <td>1.0</td>\n",
       "      <td>82.0</td>\n",
       "      <td>75.0</td>\n",
       "      <td>89.0</td>\n",
       "      <td>86.0</td>\n",
       "      <td>85.0</td>\n",
       "      <td>100.0</td>\n",
       "      <td>90.0</td>\n",
       "      <td>NaN</td>\n",
       "      <td>54.0</td>\n",
       "    </tr>\n",
       "    <tr>\n",
       "      <td>2</td>\n",
       "      <td>2019-09-19</td>\n",
       "      <td>72.0</td>\n",
       "      <td>82.0</td>\n",
       "      <td>58.0</td>\n",
       "      <td>50.0</td>\n",
       "      <td>86.0</td>\n",
       "      <td>53.0</td>\n",
       "      <td>75.0</td>\n",
       "      <td>80.0</td>\n",
       "      <td>31740.0</td>\n",
       "      <td>...</td>\n",
       "      <td>0.0</td>\n",
       "      <td>83.0</td>\n",
       "      <td>67.0</td>\n",
       "      <td>86.0</td>\n",
       "      <td>87.0</td>\n",
       "      <td>81.0</td>\n",
       "      <td>100.0</td>\n",
       "      <td>90.0</td>\n",
       "      <td>NaN</td>\n",
       "      <td>89.0</td>\n",
       "    </tr>\n",
       "    <tr>\n",
       "      <td>3</td>\n",
       "      <td>2019-09-20</td>\n",
       "      <td>59.0</td>\n",
       "      <td>54.0</td>\n",
       "      <td>41.0</td>\n",
       "      <td>84.0</td>\n",
       "      <td>100.0</td>\n",
       "      <td>75.0</td>\n",
       "      <td>62.0</td>\n",
       "      <td>1.0</td>\n",
       "      <td>21000.0</td>\n",
       "      <td>...</td>\n",
       "      <td>1.0</td>\n",
       "      <td>51.0</td>\n",
       "      <td>49.0</td>\n",
       "      <td>76.0</td>\n",
       "      <td>72.0</td>\n",
       "      <td>73.0</td>\n",
       "      <td>88.0</td>\n",
       "      <td>1.0</td>\n",
       "      <td>NaN</td>\n",
       "      <td>76.0</td>\n",
       "    </tr>\n",
       "    <tr>\n",
       "      <td>4</td>\n",
       "      <td>2019-09-21</td>\n",
       "      <td>48.0</td>\n",
       "      <td>46.0</td>\n",
       "      <td>27.0</td>\n",
       "      <td>44.0</td>\n",
       "      <td>95.0</td>\n",
       "      <td>54.0</td>\n",
       "      <td>70.0</td>\n",
       "      <td>1.0</td>\n",
       "      <td>20520.0</td>\n",
       "      <td>...</td>\n",
       "      <td>0.0</td>\n",
       "      <td>54.0</td>\n",
       "      <td>34.0</td>\n",
       "      <td>65.0</td>\n",
       "      <td>89.0</td>\n",
       "      <td>73.0</td>\n",
       "      <td>66.0</td>\n",
       "      <td>17.0</td>\n",
       "      <td>NaN</td>\n",
       "      <td>2.0</td>\n",
       "    </tr>\n",
       "    <tr>\n",
       "      <td>...</td>\n",
       "      <td>...</td>\n",
       "      <td>...</td>\n",
       "      <td>...</td>\n",
       "      <td>...</td>\n",
       "      <td>...</td>\n",
       "      <td>...</td>\n",
       "      <td>...</td>\n",
       "      <td>...</td>\n",
       "      <td>...</td>\n",
       "      <td>...</td>\n",
       "      <td>...</td>\n",
       "      <td>...</td>\n",
       "      <td>...</td>\n",
       "      <td>...</td>\n",
       "      <td>...</td>\n",
       "      <td>...</td>\n",
       "      <td>...</td>\n",
       "      <td>...</td>\n",
       "      <td>...</td>\n",
       "      <td>...</td>\n",
       "      <td>...</td>\n",
       "    </tr>\n",
       "    <tr>\n",
       "      <td>189</td>\n",
       "      <td>2020-03-27</td>\n",
       "      <td>67.0</td>\n",
       "      <td>79.0</td>\n",
       "      <td>50.0</td>\n",
       "      <td>34.0</td>\n",
       "      <td>95.0</td>\n",
       "      <td>45.0</td>\n",
       "      <td>97.0</td>\n",
       "      <td>47.0</td>\n",
       "      <td>29400.0</td>\n",
       "      <td>...</td>\n",
       "      <td>3.0</td>\n",
       "      <td>66.0</td>\n",
       "      <td>56.0</td>\n",
       "      <td>70.0</td>\n",
       "      <td>84.0</td>\n",
       "      <td>91.0</td>\n",
       "      <td>93.0</td>\n",
       "      <td>62.0</td>\n",
       "      <td>81.0</td>\n",
       "      <td>14.0</td>\n",
       "    </tr>\n",
       "    <tr>\n",
       "      <td>190</td>\n",
       "      <td>2020-03-28</td>\n",
       "      <td>57.0</td>\n",
       "      <td>71.0</td>\n",
       "      <td>47.0</td>\n",
       "      <td>8.0</td>\n",
       "      <td>93.0</td>\n",
       "      <td>43.0</td>\n",
       "      <td>86.0</td>\n",
       "      <td>27.0</td>\n",
       "      <td>27780.0</td>\n",
       "      <td>...</td>\n",
       "      <td>1.0</td>\n",
       "      <td>71.0</td>\n",
       "      <td>41.0</td>\n",
       "      <td>72.0</td>\n",
       "      <td>78.0</td>\n",
       "      <td>96.0</td>\n",
       "      <td>97.0</td>\n",
       "      <td>63.0</td>\n",
       "      <td>80.0</td>\n",
       "      <td>83.0</td>\n",
       "    </tr>\n",
       "    <tr>\n",
       "      <td>191</td>\n",
       "      <td>2020-03-29</td>\n",
       "      <td>57.0</td>\n",
       "      <td>65.0</td>\n",
       "      <td>52.0</td>\n",
       "      <td>67.0</td>\n",
       "      <td>72.0</td>\n",
       "      <td>52.0</td>\n",
       "      <td>56.0</td>\n",
       "      <td>21.0</td>\n",
       "      <td>28740.0</td>\n",
       "      <td>...</td>\n",
       "      <td>3.0</td>\n",
       "      <td>61.0</td>\n",
       "      <td>41.0</td>\n",
       "      <td>45.0</td>\n",
       "      <td>92.0</td>\n",
       "      <td>99.0</td>\n",
       "      <td>100.0</td>\n",
       "      <td>81.0</td>\n",
       "      <td>67.0</td>\n",
       "      <td>18.0</td>\n",
       "    </tr>\n",
       "    <tr>\n",
       "      <td>192</td>\n",
       "      <td>2020-03-30</td>\n",
       "      <td>45.0</td>\n",
       "      <td>21.0</td>\n",
       "      <td>7.0</td>\n",
       "      <td>89.0</td>\n",
       "      <td>83.0</td>\n",
       "      <td>63.0</td>\n",
       "      <td>91.0</td>\n",
       "      <td>17.0</td>\n",
       "      <td>12840.0</td>\n",
       "      <td>...</td>\n",
       "      <td>5.0</td>\n",
       "      <td>55.0</td>\n",
       "      <td>22.0</td>\n",
       "      <td>27.0</td>\n",
       "      <td>92.0</td>\n",
       "      <td>97.0</td>\n",
       "      <td>100.0</td>\n",
       "      <td>82.0</td>\n",
       "      <td>75.0</td>\n",
       "      <td>25.0</td>\n",
       "    </tr>\n",
       "    <tr>\n",
       "      <td>193</td>\n",
       "      <td>2020-03-31</td>\n",
       "      <td>61.0</td>\n",
       "      <td>61.0</td>\n",
       "      <td>41.0</td>\n",
       "      <td>58.0</td>\n",
       "      <td>98.0</td>\n",
       "      <td>62.0</td>\n",
       "      <td>78.0</td>\n",
       "      <td>25.0</td>\n",
       "      <td>23640.0</td>\n",
       "      <td>...</td>\n",
       "      <td>NaN</td>\n",
       "      <td>60.0</td>\n",
       "      <td>47.0</td>\n",
       "      <td>27.0</td>\n",
       "      <td>73.0</td>\n",
       "      <td>93.0</td>\n",
       "      <td>100.0</td>\n",
       "      <td>95.0</td>\n",
       "      <td>76.0</td>\n",
       "      <td>41.0</td>\n",
       "    </tr>\n",
       "  </tbody>\n",
       "</table>\n",
       "<p>194 rows × 56 columns</p>\n",
       "</div>"
      ],
      "text/plain": [
       "           date  Sleep Score  Total Sleep Score  REM Sleep Score  \\\n",
       "0    2019-09-17         67.0               76.0             25.0   \n",
       "1    2019-09-18         78.0               87.0             56.0   \n",
       "2    2019-09-19         72.0               82.0             58.0   \n",
       "3    2019-09-20         59.0               54.0             41.0   \n",
       "4    2019-09-21         48.0               46.0             27.0   \n",
       "..          ...          ...                ...              ...   \n",
       "189  2020-03-27         67.0               79.0             50.0   \n",
       "190  2020-03-28         57.0               71.0             47.0   \n",
       "191  2020-03-29         57.0               65.0             52.0   \n",
       "192  2020-03-30         45.0               21.0              7.0   \n",
       "193  2020-03-31         61.0               61.0             41.0   \n",
       "\n",
       "     Deep Sleep Score  Sleep Efficiency Score  Sleep Tranquility Score  \\\n",
       "0                23.0                    95.0                     61.0   \n",
       "1                65.0                    98.0                     56.0   \n",
       "2                50.0                    86.0                     53.0   \n",
       "3                84.0                   100.0                     75.0   \n",
       "4                44.0                    95.0                     54.0   \n",
       "..                ...                     ...                      ...   \n",
       "189              34.0                    95.0                     45.0   \n",
       "190               8.0                    93.0                     43.0   \n",
       "191              67.0                    72.0                     52.0   \n",
       "192              89.0                    83.0                     63.0   \n",
       "193              58.0                    98.0                     62.0   \n",
       "\n",
       "     Sleep Latency Score  Sleep Timing Score  Total Bedtime  ...  \\\n",
       "0                   86.0                86.0        28740.0  ...   \n",
       "1                   86.0                90.0        31020.0  ...   \n",
       "2                   75.0                80.0        31740.0  ...   \n",
       "3                   62.0                 1.0        21000.0  ...   \n",
       "4                   70.0                 1.0        20520.0  ...   \n",
       "..                   ...                 ...            ...  ...   \n",
       "189                 97.0                47.0        29400.0  ...   \n",
       "190                 86.0                27.0        27780.0  ...   \n",
       "191                 56.0                21.0        28740.0  ...   \n",
       "192                 91.0                17.0        12840.0  ...   \n",
       "193                 78.0                25.0        23640.0  ...   \n",
       "\n",
       "     Long Periods of Inactivity  Readiness Score  Previous Night Score  \\\n",
       "0                           1.0             83.0                  61.0   \n",
       "1                           1.0             82.0                  75.0   \n",
       "2                           0.0             83.0                  67.0   \n",
       "3                           1.0             51.0                  49.0   \n",
       "4                           0.0             54.0                  34.0   \n",
       "..                          ...              ...                   ...   \n",
       "189                         3.0             66.0                  56.0   \n",
       "190                         1.0             71.0                  41.0   \n",
       "191                         3.0             61.0                  41.0   \n",
       "192                         5.0             55.0                  22.0   \n",
       "193                         NaN             60.0                  47.0   \n",
       "\n",
       "     Sleep Balance Score  Previous Day Activity Score  Activity Balance Score  \\\n",
       "0                   83.0                         84.0                    79.0   \n",
       "1                   89.0                         86.0                    85.0   \n",
       "2                   86.0                         87.0                    81.0   \n",
       "3                   76.0                         72.0                    73.0   \n",
       "4                   65.0                         89.0                    73.0   \n",
       "..                   ...                          ...                     ...   \n",
       "189                 70.0                         84.0                    91.0   \n",
       "190                 72.0                         78.0                    96.0   \n",
       "191                 45.0                         92.0                    99.0   \n",
       "192                 27.0                         92.0                    97.0   \n",
       "193                 27.0                         73.0                    93.0   \n",
       "\n",
       "     Temperature Score  Resting Heart Rate Score  HRV Balance Score  \\\n",
       "0                 96.0                      97.0                NaN   \n",
       "1                100.0                      90.0                NaN   \n",
       "2                100.0                      90.0                NaN   \n",
       "3                 88.0                       1.0                NaN   \n",
       "4                 66.0                      17.0                NaN   \n",
       "..                 ...                       ...                ...   \n",
       "189               93.0                      62.0               81.0   \n",
       "190               97.0                      63.0               80.0   \n",
       "191              100.0                      81.0               67.0   \n",
       "192              100.0                      82.0               75.0   \n",
       "193              100.0                      95.0               76.0   \n",
       "\n",
       "     Recovery Index Score  \n",
       "0                   100.0  \n",
       "1                    54.0  \n",
       "2                    89.0  \n",
       "3                    76.0  \n",
       "4                     2.0  \n",
       "..                    ...  \n",
       "189                  14.0  \n",
       "190                  83.0  \n",
       "191                  18.0  \n",
       "192                  25.0  \n",
       "193                  41.0  \n",
       "\n",
       "[194 rows x 56 columns]"
      ]
     },
     "execution_count": 20,
     "metadata": {},
     "output_type": "execute_result"
    }
   ],
   "source": [
    "data2"
   ]
  },
  {
   "cell_type": "code",
   "execution_count": null,
   "metadata": {},
   "outputs": [],
   "source": [
    "data6 = json_normalize(data6['activity'])"
   ]
  },
  {
   "cell_type": "code",
   "execution_count": 9,
   "metadata": {},
   "outputs": [
    {
     "ename": "NameError",
     "evalue": "name 'data6' is not defined",
     "output_type": "error",
     "traceback": [
      "\u001b[0;31m---------------------------------------------------------------------------\u001b[0m",
      "\u001b[0;31mNameError\u001b[0m                                 Traceback (most recent call last)",
      "\u001b[0;32m<ipython-input-9-1d68e70382ef>\u001b[0m in \u001b[0;36m<module>\u001b[0;34m\u001b[0m\n\u001b[0;32m----> 1\u001b[0;31m \u001b[0mdata6\u001b[0m\u001b[0;34m\u001b[0m\u001b[0;34m\u001b[0m\u001b[0m\n\u001b[0m",
      "\u001b[0;31mNameError\u001b[0m: name 'data6' is not defined"
     ]
    }
   ],
   "source": []
  },
  {
   "cell_type": "code",
   "execution_count": null,
   "metadata": {},
   "outputs": [],
   "source": [
    "df5 = pd.DataFrame(data)"
   ]
  },
  {
   "cell_type": "code",
   "execution_count": null,
   "metadata": {},
   "outputs": [],
   "source": [
    "def transform_activity_data(data):\n",
    "    for row in data:\n",
    "        row['class_5min'] = list(map(int, row['class_5min']))\n",
    "        row['day_start'] = dateutil.parser.parse(row['day_start'])\n",
    "        row['day_end'] = dateutil.parser.parse(row['day_end'])\n",
    "        row['summary_date'] = dateutil.parser.parse(row['summary_date']).date()\n",
    "    return data\n",
    "\n",
    "data7 = transform_activity_data(data6)"
   ]
  },
  {
   "cell_type": "code",
   "execution_count": null,
   "metadata": {},
   "outputs": [],
   "source": [
    "import json \n",
    "import pandas as pd \n",
    "from pandas.io.json import json_normalize #package for flattening json in pandas df\n",
    "\n",
    "#load json object\n",
    "with open('/Users/jthompson/dev/airflow_home/data/sleep_data_response.json') as f:\n",
    "    d = json.load(f)\n",
    "\n",
    "#lets put the data into a pandas df\n",
    "#clicking on raw_nyc_phil.json under \"Input Files\"\n",
    "#tells us parent node is 'programs'\n",
    "data5 = json_normalize(d['sleep'])\n",
    "data5.head(5)\n"
   ]
  },
  {
   "cell_type": "code",
   "execution_count": null,
   "metadata": {},
   "outputs": [],
   "source": [
    "df5 = pd.DataFrame(data5)"
   ]
  },
  {
   "cell_type": "markdown",
   "metadata": {},
   "source": [
    "Display the contents of the DataFrame. "
   ]
  },
  {
   "cell_type": "code",
   "execution_count": null,
   "metadata": {},
   "outputs": [],
   "source": [
    "df5.dtypes"
   ]
  },
  {
   "cell_type": "code",
   "execution_count": null,
   "metadata": {},
   "outputs": [],
   "source": [
    "df = pd.DataFrame(data)"
   ]
  },
  {
   "cell_type": "code",
   "execution_count": null,
   "metadata": {},
   "outputs": [],
   "source": [
    "df2 = pd.DataFrame(data2)"
   ]
  },
  {
   "cell_type": "code",
   "execution_count": null,
   "metadata": {},
   "outputs": [],
   "source": [
    "df3 = pd.DataFrame(data3)"
   ]
  },
  {
   "cell_type": "code",
   "execution_count": null,
   "metadata": {},
   "outputs": [],
   "source": [
    "df4 = pd.DataFrame(data4)"
   ]
  },
  {
   "cell_type": "code",
   "execution_count": null,
   "metadata": {},
   "outputs": [],
   "source": [
    "df5['hr_5min']"
   ]
  },
  {
   "cell_type": "code",
   "execution_count": null,
   "metadata": {},
   "outputs": [],
   "source": [
    "df2['Bedtime Start']"
   ]
  },
  {
   "cell_type": "code",
   "execution_count": null,
   "metadata": {},
   "outputs": [],
   "source": [
    "df2['date'] = pd.to_datetime(df3['Date'])"
   ]
  },
  {
   "cell_type": "code",
   "execution_count": null,
   "metadata": {},
   "outputs": [],
   "source": [
    "df2.dtypes"
   ]
  },
  {
   "cell_type": "markdown",
   "metadata": {},
   "source": [
    "df2['"
   ]
  },
  {
   "cell_type": "code",
   "execution_count": null,
   "metadata": {},
   "outputs": [],
   "source": [
    "df3.columns"
   ]
  },
  {
   "cell_type": "code",
   "execution_count": null,
   "metadata": {},
   "outputs": [],
   "source": [
    "df3.dtypes"
   ]
  },
  {
   "cell_type": "code",
   "execution_count": null,
   "metadata": {},
   "outputs": [],
   "source": [
    "df3 = df3.drop(columns=['Running Bal.'])"
   ]
  },
  {
   "cell_type": "code",
   "execution_count": null,
   "metadata": {},
   "outputs": [],
   "source": [
    "df3.dtypes"
   ]
  },
  {
   "cell_type": "code",
   "execution_count": null,
   "metadata": {},
   "outputs": [],
   "source": [
    "#df3.astype({'Description': 'str'}).dtypes\n",
    "df3['Date'] = df3['Date'].str.replace(\"/\",\"-\")"
   ]
  },
  {
   "cell_type": "code",
   "execution_count": null,
   "metadata": {},
   "outputs": [],
   "source": [
    "df3"
   ]
  },
  {
   "cell_type": "code",
   "execution_count": null,
   "metadata": {},
   "outputs": [],
   "source": [
    "#move the date formate around\n",
    "#pd.to_datetime(df3['Date']).dt.strftime('%d-%Y-%d')"
   ]
  },
  {
   "cell_type": "code",
   "execution_count": null,
   "metadata": {},
   "outputs": [],
   "source": [
    "df3['Date'] = pd.to_datetime(df3['Date'])"
   ]
  },
  {
   "cell_type": "code",
   "execution_count": null,
   "metadata": {},
   "outputs": [],
   "source": [
    "df3.dtypes"
   ]
  },
  {
   "cell_type": "code",
   "execution_count": null,
   "metadata": {},
   "outputs": [],
   "source": [
    "df2 = df2.rename(columns={\"date\": \"Date\"})"
   ]
  },
  {
   "cell_type": "code",
   "execution_count": null,
   "metadata": {},
   "outputs": [],
   "source": [
    "df2"
   ]
  },
  {
   "cell_type": "code",
   "execution_count": null,
   "metadata": {},
   "outputs": [],
   "source": [
    "df2.dtypes"
   ]
  },
  {
   "cell_type": "code",
   "execution_count": null,
   "metadata": {},
   "outputs": [],
   "source": [
    "# Create the new DataFrame here.\n",
    "new_df = pd.read_csv('/Users/jthompson/dev/airflow_home/data/oura_2019-09-17_2020-04-01_trends.csv',\n",
    "            #index_col=[''],\n",
    "            usecols=['date','Sleep Score', 'Resting Heart Rate Score','HRV Balance Score'])"
   ]
  },
  {
   "cell_type": "code",
   "execution_count": null,
   "metadata": {},
   "outputs": [],
   "source": [
    "new_df.dtypes"
   ]
  },
  {
   "cell_type": "code",
   "execution_count": null,
   "metadata": {},
   "outputs": [],
   "source": [
    "new_df = new_df.rename(columns={\"date\": \"Date\"})\n",
    "new_df['Date'] = new_df['Date'].str.replace(\"/\",\"-\")\n",
    "new_df['Date'] = pd.to_datetime(new_df['Date'])"
   ]
  },
  {
   "cell_type": "code",
   "execution_count": null,
   "metadata": {},
   "outputs": [],
   "source": [
    "new_df['Date']"
   ]
  },
  {
   "cell_type": "code",
   "execution_count": null,
   "metadata": {},
   "outputs": [],
   "source": [
    "df3"
   ]
  },
  {
   "cell_type": "code",
   "execution_count": null,
   "metadata": {},
   "outputs": [],
   "source": [
    "D_D = df2.set_index('Date').join(df3.set_index('Date'))"
   ]
  },
  {
   "cell_type": "code",
   "execution_count": null,
   "metadata": {},
   "outputs": [],
   "source": [
    "D_D.columns"
   ]
  },
  {
   "cell_type": "code",
   "execution_count": null,
   "metadata": {},
   "outputs": [],
   "source": [
    "D_D"
   ]
  },
  {
   "cell_type": "code",
   "execution_count": null,
   "metadata": {},
   "outputs": [],
   "source": [
    "#D_D2 = new_df.join(df3.set_index('Date'), on='')"
   ]
  },
  {
   "cell_type": "code",
   "execution_count": null,
   "metadata": {},
   "outputs": [],
   "source": [
    "I need to search through descriptions for a date like str = 'XX/XX'\n",
    "and set that as the new 'Date' index to pair with sleep data."
   ]
  },
  {
   "cell_type": "code",
   "execution_count": null,
   "metadata": {},
   "outputs": [],
   "source": []
  },
  {
   "cell_type": "code",
   "execution_count": null,
   "metadata": {},
   "outputs": [],
   "source": [
    "Oura time: 2020-04-04T10:08:06-04:00"
   ]
  },
  {
   "cell_type": "code",
   "execution_count": null,
   "metadata": {},
   "outputs": [],
   "source": [
    "SQL time: 2020-04-04 10:08:06\n",
    "                \n",
    "Timezone offset from UTC as minutes. For example, EEST (Eastern European Summer Time, +3h) is 180. \n",
    "PST (Pacific Standard Time, -8h) is -480. Note that timezone information is also available in the \n",
    "datetime values themselves, see for example.bedtime_start\n",
    "\n",
    "#Think i can ignore the -4. And just alter to look like above without any edits\n",
    "\n",
    "INSERT INTO bedtime_end_delt\n",
    "VALUES('2008-01-01 00:00:01')"
   ]
  },
  {
   "cell_type": "code",
   "execution_count": null,
   "metadata": {},
   "outputs": [],
   "source": []
  }
 ],
 "metadata": {
  "kernelspec": {
   "display_name": "Python 3",
   "language": "python",
   "name": "python3"
  },
  "language_info": {
   "codemirror_mode": {
    "name": "ipython",
    "version": 3
   },
   "file_extension": ".py",
   "mimetype": "text/x-python",
   "name": "python",
   "nbconvert_exporter": "python",
   "pygments_lexer": "ipython3",
   "version": "3.7.4"
  }
 },
 "nbformat": 4,
 "nbformat_minor": 2
}
