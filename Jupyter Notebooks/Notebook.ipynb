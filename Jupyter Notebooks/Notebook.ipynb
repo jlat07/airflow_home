{
 "cells": [
  {
   "cell_type": "code",
   "execution_count": 1,
   "metadata": {},
   "outputs": [],
   "source": [
    "import pandas as pd\n",
    "import os\n",
    "import json\n",
    "from pandas.io.json import json_normalize"
   ]
  },
  {
   "cell_type": "markdown",
   "metadata": {},
   "source": [
    "## Read csv"
   ]
  },
  {
   "cell_type": "code",
   "execution_count": null,
   "metadata": {},
   "outputs": [],
   "source": [
    "import csv \n",
    " \n",
    "with open('/Users/jthompson/dev/airflow_home/data/stmt.csv','r') as csv_file: #Opens the file in read mode\n",
    "    csv_reader = csv.reader(csv_file) # Making use of reader method for reading the file\n",
    " \n",
    " \n",
    "    for line in csv_reader: #Iterate through the loop to read line by line\n",
    "        print(line)"
   ]
  },
  {
   "cell_type": "code",
   "execution_count": null,
   "metadata": {},
   "outputs": [],
   "source": [
    "#Standard Data that you see on Oura Home screen from the data show in data2\n",
    "\n",
    "data = pd.read_csv('/Users/jthompson/dev/airflow_home/data/oura_2019_trends.csv')"
   ]
  },
  {
   "cell_type": "code",
   "execution_count": null,
   "metadata": {},
   "outputs": [],
   "source": [
    "data2 = pd.read_csv('/Users/jthompson/dev/airflow_home/data/oura_2019-09-17_2020-04-01_trends.csv')"
   ]
  },
  {
   "cell_type": "code",
   "execution_count": null,
   "metadata": {},
   "outputs": [],
   "source": [
    "data3 = pd.read_csv('/Users/jthompson/dev/airflow_home/data/debits.csv')"
   ]
  },
  {
   "cell_type": "code",
   "execution_count": 7,
   "metadata": {},
   "outputs": [],
   "source": [
    "## For previous csv data above, reading csv and then setting data to dataframe simple"
   ]
  },
  {
   "cell_type": "code",
   "execution_count": null,
   "metadata": {},
   "outputs": [],
   "source": [
    "## For serialized json data, must json.load file and then normalize by index,(ie: Sleep, Activity, Readiness)"
   ]
  },
  {
   "cell_type": "code",
   "execution_count": 2,
   "metadata": {},
   "outputs": [],
   "source": [
    "data4 = pd.read_json('/Users/jthompson/dev/airflow_home/data/sleep_data_response.json')"
   ]
  },
  {
   "cell_type": "code",
   "execution_count": 6,
   "metadata": {},
   "outputs": [
    {
     "ename": "NameError",
     "evalue": "name 'd' is not defined",
     "output_type": "error",
     "traceback": [
      "\u001b[0;31m---------------------------------------------------------------------------\u001b[0m",
      "\u001b[0;31mNameError\u001b[0m                                 Traceback (most recent call last)",
      "\u001b[0;32m<ipython-input-6-201212c1ec7f>\u001b[0m in \u001b[0;36m<module>\u001b[0;34m\u001b[0m\n\u001b[0;32m----> 1\u001b[0;31m \u001b[0mdata4\u001b[0m \u001b[0;34m=\u001b[0m \u001b[0mjson_normalize\u001b[0m\u001b[0;34m(\u001b[0m\u001b[0md\u001b[0m\u001b[0;34m[\u001b[0m\u001b[0;34m'sleep'\u001b[0m\u001b[0;34m]\u001b[0m\u001b[0;34m)\u001b[0m\u001b[0;34m\u001b[0m\u001b[0;34m\u001b[0m\u001b[0m\n\u001b[0m",
      "\u001b[0;31mNameError\u001b[0m: name 'd' is not defined"
     ]
    }
   ],
   "source": [
    "data4 = json_normalize(d['sleep'])"
   ]
  },
  {
   "cell_type": "code",
   "execution_count": null,
   "metadata": {},
   "outputs": [],
   "source": [
    "df4['sleep']"
   ]
  },
  {
   "cell_type": "code",
   "execution_count": 8,
   "metadata": {},
   "outputs": [
    {
     "data": {
      "text/html": [
       "<div>\n",
       "<style scoped>\n",
       "    .dataframe tbody tr th:only-of-type {\n",
       "        vertical-align: middle;\n",
       "    }\n",
       "\n",
       "    .dataframe tbody tr th {\n",
       "        vertical-align: top;\n",
       "    }\n",
       "\n",
       "    .dataframe thead th {\n",
       "        text-align: right;\n",
       "    }\n",
       "</style>\n",
       "<table border=\"1\" class=\"dataframe\">\n",
       "  <thead>\n",
       "    <tr style=\"text-align: right;\">\n",
       "      <th></th>\n",
       "      <th>awake</th>\n",
       "      <th>bedtime_end</th>\n",
       "      <th>bedtime_end_delta</th>\n",
       "      <th>bedtime_start</th>\n",
       "      <th>bedtime_start_delta</th>\n",
       "      <th>breath_average</th>\n",
       "      <th>deep</th>\n",
       "      <th>duration</th>\n",
       "      <th>efficiency</th>\n",
       "      <th>hr_5min</th>\n",
       "      <th>...</th>\n",
       "      <th>score_efficiency</th>\n",
       "      <th>score_latency</th>\n",
       "      <th>score_rem</th>\n",
       "      <th>score_total</th>\n",
       "      <th>summary_date</th>\n",
       "      <th>temperature_delta</th>\n",
       "      <th>temperature_deviation</th>\n",
       "      <th>temperature_trend_deviation</th>\n",
       "      <th>timezone</th>\n",
       "      <th>total</th>\n",
       "    </tr>\n",
       "  </thead>\n",
       "  <tbody>\n",
       "    <tr>\n",
       "      <td>0</td>\n",
       "      <td>5640</td>\n",
       "      <td>2020-04-04T10:08:06-04:00</td>\n",
       "      <td>36486</td>\n",
       "      <td>2020-04-04T01:06:06-04:00</td>\n",
       "      <td>3966</td>\n",
       "      <td>14.75</td>\n",
       "      <td>3510</td>\n",
       "      <td>32520</td>\n",
       "      <td>83</td>\n",
       "      <td>[0, 0, 55, 56, 55, 55, 55, 56, 56, 55, 55, 55,...</td>\n",
       "      <td>...</td>\n",
       "      <td>79</td>\n",
       "      <td>81</td>\n",
       "      <td>67</td>\n",
       "      <td>80</td>\n",
       "      <td>2020-04-03</td>\n",
       "      <td>0.18</td>\n",
       "      <td>0.18</td>\n",
       "      <td>0.09</td>\n",
       "      <td>-240</td>\n",
       "      <td>26880</td>\n",
       "    </tr>\n",
       "  </tbody>\n",
       "</table>\n",
       "<p>1 rows × 37 columns</p>\n",
       "</div>"
      ],
      "text/plain": [
       "   awake                bedtime_end  bedtime_end_delta  \\\n",
       "0   5640  2020-04-04T10:08:06-04:00              36486   \n",
       "\n",
       "               bedtime_start  bedtime_start_delta  breath_average  deep  \\\n",
       "0  2020-04-04T01:06:06-04:00                 3966           14.75  3510   \n",
       "\n",
       "   duration  efficiency                                            hr_5min  \\\n",
       "0     32520          83  [0, 0, 55, 56, 55, 55, 55, 56, 56, 55, 55, 55,...   \n",
       "\n",
       "   ...  score_efficiency  score_latency score_rem  score_total  summary_date  \\\n",
       "0  ...                79             81        67           80    2020-04-03   \n",
       "\n",
       "   temperature_delta  temperature_deviation  temperature_trend_deviation  \\\n",
       "0               0.18                   0.18                         0.09   \n",
       "\n",
       "   timezone  total  \n",
       "0      -240  26880  \n",
       "\n",
       "[1 rows x 37 columns]"
      ]
     },
     "execution_count": 8,
     "metadata": {},
     "output_type": "execute_result"
    }
   ],
   "source": [
    "import json \n",
    "import pandas as pd \n",
    "from pandas.io.json import json_normalize #package for flattening json in pandas df\n",
    "\n",
    "#load json object\n",
    "with open('/Users/jthompson/dev/airflow_home/data/sleep_data_response.json') as f:\n",
    "    d = json.load(f)\n",
    "\n",
    "#lets put the data into a pandas df\n",
    "#clicking on raw_nyc_phil.json under \"Input Files\"\n",
    "#tells us parent node is 'programs'\n",
    "data5 = json_normalize(d['sleep'])\n",
    "data5.head(5)\n"
   ]
  },
  {
   "cell_type": "code",
   "execution_count": 10,
   "metadata": {},
   "outputs": [],
   "source": [
    "df5 = pd.DataFrame(data5)"
   ]
  },
  {
   "cell_type": "markdown",
   "metadata": {},
   "source": [
    "Display the contents of the DataFrame. "
   ]
  },
  {
   "cell_type": "code",
   "execution_count": 15,
   "metadata": {},
   "outputs": [
    {
     "data": {
      "text/plain": [
       "awake                            int64\n",
       "bedtime_end                     object\n",
       "bedtime_end_delta                int64\n",
       "bedtime_start                   object\n",
       "bedtime_start_delta              int64\n",
       "breath_average                 float64\n",
       "deep                             int64\n",
       "duration                         int64\n",
       "efficiency                       int64\n",
       "hr_5min                         object\n",
       "hr_average                     float64\n",
       "hr_lowest                        int64\n",
       "hypnogram_5min                  object\n",
       "is_longest                       int64\n",
       "light                            int64\n",
       "midpoint_at_delta                int64\n",
       "midpoint_time                    int64\n",
       "onset_latency                    int64\n",
       "period_id                        int64\n",
       "rem                              int64\n",
       "restless                         int64\n",
       "rmssd                            int64\n",
       "rmssd_5min                      object\n",
       "score                            int64\n",
       "score_alignment                  int64\n",
       "score_deep                       int64\n",
       "score_disturbances               int64\n",
       "score_efficiency                 int64\n",
       "score_latency                    int64\n",
       "score_rem                        int64\n",
       "score_total                      int64\n",
       "summary_date                    object\n",
       "temperature_delta              float64\n",
       "temperature_deviation          float64\n",
       "temperature_trend_deviation    float64\n",
       "timezone                         int64\n",
       "total                            int64\n",
       "dtype: object"
      ]
     },
     "execution_count": 15,
     "metadata": {},
     "output_type": "execute_result"
    }
   ],
   "source": [
    "df5.dtypes"
   ]
  },
  {
   "cell_type": "code",
   "execution_count": null,
   "metadata": {},
   "outputs": [],
   "source": [
    "df = pd.DataFrame(data)"
   ]
  },
  {
   "cell_type": "code",
   "execution_count": null,
   "metadata": {},
   "outputs": [],
   "source": [
    "df2 = pd.DataFrame(data2)"
   ]
  },
  {
   "cell_type": "code",
   "execution_count": null,
   "metadata": {},
   "outputs": [],
   "source": [
    "df3 = pd.DataFrame(data3)"
   ]
  },
  {
   "cell_type": "code",
   "execution_count": null,
   "metadata": {},
   "outputs": [],
   "source": [
    "df4 = pd.DataFrame(data4)"
   ]
  },
  {
   "cell_type": "code",
   "execution_count": null,
   "metadata": {},
   "outputs": [],
   "source": [
    "df4"
   ]
  },
  {
   "cell_type": "code",
   "execution_count": null,
   "metadata": {},
   "outputs": [],
   "source": [
    "df2['Bedtime Start']"
   ]
  },
  {
   "cell_type": "code",
   "execution_count": null,
   "metadata": {},
   "outputs": [],
   "source": [
    "df2['date'] = pd.to_datetime(df3['Date'])"
   ]
  },
  {
   "cell_type": "code",
   "execution_count": null,
   "metadata": {},
   "outputs": [],
   "source": [
    "df2.dtypes"
   ]
  },
  {
   "cell_type": "code",
   "execution_count": null,
   "metadata": {},
   "outputs": [],
   "source": [
    "df3.columns"
   ]
  },
  {
   "cell_type": "code",
   "execution_count": null,
   "metadata": {},
   "outputs": [],
   "source": [
    "df3.dtypes"
   ]
  },
  {
   "cell_type": "code",
   "execution_count": null,
   "metadata": {},
   "outputs": [],
   "source": [
    "df3 = df3.drop(columns=['Running Bal.'])"
   ]
  },
  {
   "cell_type": "code",
   "execution_count": null,
   "metadata": {},
   "outputs": [],
   "source": [
    "df3.dtypes"
   ]
  },
  {
   "cell_type": "code",
   "execution_count": null,
   "metadata": {},
   "outputs": [],
   "source": [
    "#df3.astype({'Description': 'str'}).dtypes\n",
    "df3['Date'] = df3['Date'].str.replace(\"/\",\"-\")"
   ]
  },
  {
   "cell_type": "code",
   "execution_count": null,
   "metadata": {},
   "outputs": [],
   "source": [
    "df3"
   ]
  },
  {
   "cell_type": "code",
   "execution_count": null,
   "metadata": {},
   "outputs": [],
   "source": [
    "#move the date formate around\n",
    "#pd.to_datetime(df3['Date']).dt.strftime('%d-%Y-%d')"
   ]
  },
  {
   "cell_type": "code",
   "execution_count": null,
   "metadata": {},
   "outputs": [],
   "source": [
    "df3['Date'] = pd.to_datetime(df3['Date'])"
   ]
  },
  {
   "cell_type": "code",
   "execution_count": null,
   "metadata": {},
   "outputs": [],
   "source": [
    "df3.dtypes"
   ]
  },
  {
   "cell_type": "code",
   "execution_count": null,
   "metadata": {
    "scrolled": true
   },
   "outputs": [],
   "source": [
    "df3['Date']"
   ]
  },
  {
   "cell_type": "code",
   "execution_count": null,
   "metadata": {},
   "outputs": [],
   "source": [
    "df2 = df2.rename(columns={\"date\": \"Date\"})"
   ]
  },
  {
   "cell_type": "code",
   "execution_count": null,
   "metadata": {},
   "outputs": [],
   "source": [
    "df2"
   ]
  },
  {
   "cell_type": "code",
   "execution_count": null,
   "metadata": {},
   "outputs": [],
   "source": [
    "df2.dtypes"
   ]
  },
  {
   "cell_type": "code",
   "execution_count": null,
   "metadata": {},
   "outputs": [],
   "source": [
    "# Create the new DataFrame here.\n",
    "new_df = pd.read_csv('/Users/jthompson/dev/airflow_home/data/oura_2019-09-17_2020-04-01_trends.csv',\n",
    "            #index_col=[''],\n",
    "            usecols=['date','Sleep Score', 'Resting Heart Rate Score','HRV Balance Score'])"
   ]
  },
  {
   "cell_type": "code",
   "execution_count": null,
   "metadata": {},
   "outputs": [],
   "source": [
    "new_df.dtypes"
   ]
  },
  {
   "cell_type": "code",
   "execution_count": null,
   "metadata": {},
   "outputs": [],
   "source": [
    "new_df = new_df.rename(columns={\"date\": \"Date\"})\n",
    "new_df['Date'] = new_df['Date'].str.replace(\"/\",\"-\")\n",
    "new_df['Date'] = pd.to_datetime(new_df['Date'])"
   ]
  },
  {
   "cell_type": "code",
   "execution_count": null,
   "metadata": {},
   "outputs": [],
   "source": [
    "new_df"
   ]
  },
  {
   "cell_type": "code",
   "execution_count": null,
   "metadata": {},
   "outputs": [],
   "source": [
    "df3"
   ]
  },
  {
   "cell_type": "code",
   "execution_count": null,
   "metadata": {},
   "outputs": [],
   "source": [
    "D_D = df2.set_index('Date').join(df3.set_index('Date'))"
   ]
  },
  {
   "cell_type": "code",
   "execution_count": null,
   "metadata": {},
   "outputs": [],
   "source": [
    "D_D.columns"
   ]
  },
  {
   "cell_type": "code",
   "execution_count": null,
   "metadata": {},
   "outputs": [],
   "source": [
    "#D_D2 = new_df.join(df3.set_index('Date'), on='')"
   ]
  },
  {
   "cell_type": "code",
   "execution_count": null,
   "metadata": {},
   "outputs": [],
   "source": [
    "I need to search through descriptions for a date like str = 'XX/XX'\n",
    "and set that as the new 'Date' index to pair with sleep data."
   ]
  }
 ],
 "metadata": {
  "kernelspec": {
   "display_name": "Python 3",
   "language": "python",
   "name": "python3"
  },
  "language_info": {
   "codemirror_mode": {
    "name": "ipython",
    "version": 3
   },
   "file_extension": ".py",
   "mimetype": "text/x-python",
   "name": "python",
   "nbconvert_exporter": "python",
   "pygments_lexer": "ipython3",
   "version": "3.7.4"
  }
 },
 "nbformat": 4,
 "nbformat_minor": 2
}
